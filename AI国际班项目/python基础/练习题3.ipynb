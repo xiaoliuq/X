{
 "cells": [
  {
   "cell_type": "markdown",
   "metadata": {},
   "source": [
    "#  1、创建一个长度为10的一维全为0的ndarray对象，然后让第5个元素等于1"
   ]
  },
  {
   "cell_type": "code",
   "execution_count": 1,
   "metadata": {},
   "outputs": [
    {
     "name": "stdout",
     "output_type": "stream",
     "text": [
      "[0 0 0 0 0 0 0 0 0 0]\n",
      "\n",
      "\n",
      "[0 0 0 0 1 0 0 0 0 0]\n"
     ]
    }
   ],
   "source": [
    "import numpy as f\n",
    "a=f.zeros(10,dtype=int)\n",
    "print(a)\n",
    "print('\\n')\n",
    "a[4]=1\n",
    "print(a)"
   ]
  },
  {
   "cell_type": "markdown",
   "metadata": {},
   "source": [
    "#  2. 创建一个5*3随机矩阵和一个3*2随机矩阵，求矩阵积"
   ]
  },
  {
   "cell_type": "code",
   "execution_count": 2,
   "metadata": {},
   "outputs": [
    {
     "name": "stdout",
     "output_type": "stream",
     "text": [
      "[[ 0  1  2]\n",
      " [ 3  4  5]\n",
      " [ 6  7  8]\n",
      " [ 9 10 11]\n",
      " [12 13 14]]\n",
      "\n",
      "\n",
      "[[0 1]\n",
      " [2 3]\n",
      " [4 5]]\n",
      "\n",
      "\n",
      "[[ 10  13]\n",
      " [ 28  40]\n",
      " [ 46  67]\n",
      " [ 64  94]\n",
      " [ 82 121]]\n"
     ]
    }
   ],
   "source": [
    "import numpy as f\n",
    "a=f.arange(15).reshape(5,3)\n",
    "b=f.arange(6).reshape(3,2)\n",
    "print(a)\n",
    "print('\\n')\n",
    "print(b)\n",
    "print('\\n')\n",
    "print(f.dot(a,b))"
   ]
  },
  {
   "cell_type": "markdown",
   "metadata": {},
   "source": [
    "# 3. 实现冒泡排序法"
   ]
  },
  {
   "cell_type": "code",
   "execution_count": 8,
   "metadata": {},
   "outputs": [
    {
     "name": "stdout",
     "output_type": "stream",
     "text": [
      "7\n",
      "0\n",
      "1\n",
      "2\n",
      "3\n",
      "4\n",
      "5\n",
      "[4, 5, 6, 7, 8, 32, 50]\n"
     ]
    }
   ],
   "source": [
    "import numpy as f\n",
    "a=[4,5,6,8,7,50,32]\n",
    "b=len(a)\n",
    "print(b)\n",
    "for i in range(b-1):\n",
    "    print(i)\n",
    "    for j in range(b-1-i):\n",
    "        if a[j]>a[j+1]:\n",
    "            a[j],a[j+1]=a[j+1],a[j]\n",
    "print(a)"
   ]
  },
  {
   "cell_type": "markdown",
   "metadata": {},
   "source": [
    "# 4. 找到数组[1,2,0,0,4,0]中0元素的位置索引"
   ]
  },
  {
   "cell_type": "code",
   "execution_count": 9,
   "metadata": {},
   "outputs": [
    {
     "name": "stdout",
     "output_type": "stream",
     "text": [
      "[2, 3, 5]\n"
     ]
    }
   ],
   "source": [
    "a=[1,2,0,0,4,0]\n",
    "b=[i for i,x in enumerate(a) if x==0]\n",
    "print(b)"
   ]
  },
  {
   "cell_type": "markdown",
   "metadata": {},
   "source": [
    "# 5. 创建一个 10x10 的随机数组并找到它的最大值和最小值"
   ]
  },
  {
   "cell_type": "code",
   "execution_count": 10,
   "metadata": {},
   "outputs": [
    {
     "name": "stdout",
     "output_type": "stream",
     "text": [
      "[[64  7 92 70 49 82 31 27 10 12]\n",
      " [92 63 45 91 61 33 78 47  7 86]\n",
      " [26 75 52 12 60 84 94 60 79 97]\n",
      " [63 39 17  7  1 39 36 78 81 36]\n",
      " [45 73 44 59 87 62 44 73 58 92]\n",
      " [71 24 76 43 17 79 83 53 28 56]\n",
      " [80 13 20  2 72 30 16 78 18  3]\n",
      " [ 9 84 32 42 40 56 48 47 82 10]\n",
      " [39  7 64  2 28 43 21  6 23 63]\n",
      " [67 35 29 51 17  1 64 69 78 21]]\n",
      "97\n",
      "1\n"
     ]
    }
   ],
   "source": [
    "import numpy as f\n",
    "a=f.random.randint(0,100,100).reshape(10,10)\n",
    "print(a)\n",
    "print(f.max(a))\n",
    "print(f.min(a))"
   ]
  },
  {
   "cell_type": "markdown",
   "metadata": {},
   "source": [
    "# 6. 求解方程：3x1+3.2x2=118.4        3.5x1+3.6x2=135.2"
   ]
  },
  {
   "cell_type": "code",
   "execution_count": 11,
   "metadata": {},
   "outputs": [
    {
     "name": "stdout",
     "output_type": "stream",
     "text": [
      "[16. 22.]\n"
     ]
    }
   ],
   "source": [
    "import numpy as f\n",
    "a=f.array([[3,3.2],[3.5,3.6]])\n",
    "b=f.array([118.4,135.2])\n",
    "s=f.linalg.solve(a,b)\n",
    "print(s)"
   ]
  },
  {
   "cell_type": "code",
   "execution_count": null,
   "metadata": {},
   "outputs": [],
   "source": []
  }
 ],
 "metadata": {
  "kernelspec": {
   "display_name": "Python 3",
   "language": "python",
   "name": "python3"
  },
  "language_info": {
   "codemirror_mode": {
    "name": "ipython",
    "version": 3
   },
   "file_extension": ".py",
   "mimetype": "text/x-python",
   "name": "python",
   "nbconvert_exporter": "python",
   "pygments_lexer": "ipython3",
   "version": "3.6.9"
  }
 },
 "nbformat": 4,
 "nbformat_minor": 2
}
