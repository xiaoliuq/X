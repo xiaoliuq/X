{
 "cells": [
  {
   "cell_type": "markdown",
   "metadata": {},
   "source": [
    "# 1. 下面两段代码输出的结果相同么？请解释原因"
   ]
  },
  {
   "cell_type": "code",
   "execution_count": 14,
   "metadata": {},
   "outputs": [
    {
     "name": "stdout",
     "output_type": "stream",
     "text": [
      "9\n",
      "45\n"
     ]
    }
   ],
   "source": [
    "x1,y1=4,5\n",
    "x2,y2='4','5'\n",
    "x2,y2='4','5'\n",
    "print(x1+y1)\n",
    "print(x2+y2)"
   ]
  },
  {
   "cell_type": "markdown",
   "metadata": {},
   "source": [
    "一是整数间加法运算,结果为 9 ；二是字符串之间的拼接操作，结果为 45。"
   ]
  },
  {
   "cell_type": "markdown",
   "metadata": {},
   "source": [
    "# 2.  ‘10/3'，‘10//3’和'10%3'结果相同么？请说明原因"
   ]
  },
  {
   "cell_type": "code",
   "execution_count": 24,
   "metadata": {},
   "outputs": [
    {
     "name": "stdout",
     "output_type": "stream",
     "text": [
      "3.3333333333333335 \n",
      " 3 \n",
      " 1\n"
     ]
    }
   ],
   "source": [
    "x=10/3\n",
    "y=10//3\n",
    "z=10%3\n",
    "print(x,'\\n',y,'\\n',z)"
   ]
  },
  {
   "cell_type": "markdown",
   "metadata": {},
   "source": [
    "结果分别为：3.333  ，3  ，1。其中，/是除法运算、//所得结果向下取整、%是取余运算。"
   ]
  },
  {
   "cell_type": "markdown",
   "metadata": {},
   "source": [
    "# 3. a = 3，str(a*3) + str(a)*3的输出是什么?\n"
   ]
  },
  {
   "cell_type": "code",
   "execution_count": 28,
   "metadata": {},
   "outputs": [
    {
     "name": "stdout",
     "output_type": "stream",
     "text": [
      "9\n",
      "333\n",
      "输出为: 9333\n"
     ]
    }
   ],
   "source": [
    "a=3\n",
    "print(str(a*3))\n",
    "print(str(a)*3)\n",
    "print(\"输出为:\",str(a*3)+str(a)*3)#加号为字符串拼接"
   ]
  },
  {
   "cell_type": "markdown",
   "metadata": {},
   "source": [
    "# 4. my_string = 'this is my string', 如何查看这个字符串长度"
   ]
  },
  {
   "cell_type": "code",
   "execution_count": 2,
   "metadata": {},
   "outputs": [
    {
     "name": "stdout",
     "output_type": "stream",
     "text": [
      "17\n"
     ]
    }
   ],
   "source": [
    "my_string=\"this is my string\"\n",
    "print(len(my_string))"
   ]
  },
  {
   "cell_type": "markdown",
   "metadata": {},
   "source": [
    "# 5. 使用 while 来计算 1 到 100 的总和"
   ]
  },
  {
   "cell_type": "code",
   "execution_count": 1,
   "metadata": {},
   "outputs": [
    {
     "name": "stdout",
     "output_type": "stream",
     "text": [
      "5050\n"
     ]
    }
   ],
   "source": [
    "i=0\n",
    "sum=0\n",
    "while(i<101):\n",
    "    sum=sum+i;\n",
    "    i=i+1\n",
    "\n",
    "print(sum)"
   ]
  },
  {
   "cell_type": "markdown",
   "metadata": {},
   "source": [
    "# 6. 输入一年份，判断该年份是否是闰年并输出结果"
   ]
  },
  {
   "cell_type": "code",
   "execution_count": 3,
   "metadata": {},
   "outputs": [
    {
     "name": "stdout",
     "output_type": "stream",
     "text": [
      "请输入一个整数2040\n",
      "是闰年\n"
     ]
    }
   ],
   "source": [
    "year=int(input('请输入一个整数'))\n",
    "if(year%400==0 or year%4==0 and year%100!=0):\n",
    "    print(\"是闰年\")\n",
    "else:\n",
    "    print(\"不是闰年\")"
   ]
  },
  {
   "cell_type": "markdown",
   "metadata": {},
   "source": [
    "# 7.使用while, 完成以下图形的输出"
   ]
  },
  {
   "cell_type": "raw",
   "metadata": {},
   "source": [
    "*\n",
    "* *\n",
    "* * *\n",
    "* * * *\n",
    "* * * * *\n",
    "* * * *\n",
    "* * *\n",
    "* *\n",
    "*"
   ]
  },
  {
   "cell_type": "code",
   "execution_count": 6,
   "metadata": {},
   "outputs": [
    {
     "name": "stdout",
     "output_type": "stream",
     "text": [
      "*\n",
      "**\n",
      "***\n",
      "****\n",
      "*****\n",
      "****\n",
      "***\n",
      "**\n",
      "*\n",
      "\n"
     ]
    }
   ],
   "source": [
    "i=\"*\"\n",
    "j=0\n",
    "k=5\n",
    "while(j<5):\n",
    "    j=j+1\n",
    "    print(i*j)\n",
    "while(k>0):\n",
    "    k=k-1\n",
    "    print(k*i)"
   ]
  },
  {
   "cell_type": "markdown",
   "metadata": {},
   "source": [
    "#  8. 输入两个数，比较大小后，从小到大升序打印"
   ]
  },
  {
   "cell_type": "code",
   "execution_count": 9,
   "metadata": {},
   "outputs": [
    {
     "name": "stdout",
     "output_type": "stream",
     "text": [
      "请输入第一个数7\n",
      "请输入第二个数1\n",
      "1 7\n"
     ]
    }
   ],
   "source": [
    "a=int(input(\"请输入第一个数\"))\n",
    "b=int(input(\"请输入第二个数\"))\n",
    "if(a<b):\n",
    "    print(a,b)\n",
    "else:\n",
    "    print(b,a)\n"
   ]
  },
  {
   "cell_type": "markdown",
   "metadata": {},
   "source": [
    "# 9. 有1、2、3、4个数字，能组成多少个互不相同且无重复数字的三位数？都是多少？"
   ]
  },
  {
   "cell_type": "code",
   "execution_count": 11,
   "metadata": {},
   "outputs": [
    {
     "name": "stdout",
     "output_type": "stream",
     "text": [
      "123\n",
      "124\n",
      "132\n",
      "134\n",
      "142\n",
      "143\n",
      "213\n",
      "214\n",
      "231\n",
      "234\n",
      "241\n",
      "243\n",
      "312\n",
      "314\n",
      "321\n",
      "324\n",
      "341\n",
      "342\n",
      "412\n",
      "413\n",
      "421\n",
      "423\n",
      "431\n",
      "432\n"
     ]
    }
   ],
   "source": [
    "i=0\n",
    "for a in range(1,5):\n",
    "    for b in range(1,5):\n",
    "        for c in range(1,5):\n",
    "            if a!=b and a!=c and b!=c:\n",
    "                print(\"%d%d%d\"%(a,b,c))\n",
    "                i+=1"
   ]
  },
  {
   "cell_type": "markdown",
   "metadata": {},
   "source": [
    "# 10. 一个整数，它加上100后是一个完全平方数，再加上168又是一个完全平方数，请问该数是多少？"
   ]
  },
  {
   "cell_type": "code",
   "execution_count": 10,
   "metadata": {},
   "outputs": [
    {
     "name": "stdout",
     "output_type": "stream",
     "text": [
      "156\n"
     ]
    }
   ],
   "source": [
    "i=0\n",
    "j=0\n",
    "k=0\n",
    "for i in range(1,200):\n",
    "    for j in range(1, 200):\n",
    "        for k in range(1,200):\n",
    "            if(i+100==j*j and i+168==k*k):\n",
    "                    print(i)\n"
   ]
  },
  {
   "cell_type": "markdown",
   "metadata": {},
   "source": [
    "# 11. 求200以内能被17整除的最大正整数\n",
    "## 例如：输入18，输出18=2*3*3"
   ]
  },
  {
   "cell_type": "code",
   "execution_count": 12,
   "metadata": {},
   "outputs": [
    {
     "name": "stdout",
     "output_type": "stream",
     "text": [
      "输入一个正整数:12\n",
      "2* 2* 3"
     ]
    }
   ],
   "source": [
    "import random\n",
    "x=int(input(\"输入一个正整数:\"))\n",
    "a=list()\n",
    "for i in range(2,x+1):\n",
    "    while 1:\n",
    "        if x%i==0:\n",
    "            a.append(i)\n",
    "            x/=i\n",
    "        else:\n",
    "            break\n",
    "flag=0\n",
    "for i in a:\n",
    "    if flag==0:\n",
    "        print (i,end='')\n",
    "        flag=1\n",
    "    else:\n",
    "        print('*',i,end='')"
   ]
  },
  {
   "cell_type": "markdown",
   "metadata": {},
   "source": [
    "## 13. 一球从100米高度自由落下，每次落地后反跳回原高度的一半，再落下，求他在第10次落地时，共经过多少米？第10次反弹多高？"
   ]
  },
  {
   "cell_type": "code",
   "execution_count": 13,
   "metadata": {},
   "outputs": [
    {
     "name": "stdout",
     "output_type": "stream",
     "text": [
      "共经过 299.8046875 米\n",
      "第十次反弹 0.09765625 米\n"
     ]
    }
   ],
   "source": [
    "h=100\n",
    "h_sum=100\n",
    "for i in range(1,11):\n",
    "    h=h/2\n",
    "    h_sum+=h*2\n",
    "print(\"共经过\",h_sum,\"米\")\n",
    "print(\"第十次反弹\",h,\"米\")"
   ]
  },
  {
   "cell_type": "markdown",
   "metadata": {},
   "source": [
    "# 14. 编写代码，实现求100-200里面所有的素数"
   ]
  },
  {
   "cell_type": "code",
   "execution_count": 14,
   "metadata": {},
   "outputs": [
    {
     "name": "stdout",
     "output_type": "stream",
     "text": [
      "[101, 103, 107, 109, 113, 127, 131, 137, 139, 149, 151, 157, 163, 167, 173, 179, 181, 191, 193, 197, 199]\n"
     ]
    }
   ],
   "source": [
    "a=[]\n",
    "for i in range(100,201):\n",
    "    b=0\n",
    "    for j in range(2,i-1):\n",
    "        if i%j==0:\n",
    "            b+=1\n",
    "    if b==0:\n",
    "        a.append(i)\n",
    "print(a)"
   ]
  },
  {
   "cell_type": "markdown",
   "metadata": {},
   "source": [
    "#  15. d={‘a’:1,’b’:2,’c’:3}请打印出key、value对"
   ]
  },
  {
   "cell_type": "code",
   "execution_count": 15,
   "metadata": {},
   "outputs": [
    {
     "name": "stdout",
     "output_type": "stream",
     "text": [
      "a 1\n",
      "b 2\n",
      "c 3\n"
     ]
    }
   ],
   "source": [
    "d={'a':1,'b':2,'c':3}\n",
    "for key in d:\n",
    "    print(key,d[key])"
   ]
  },
  {
   "cell_type": "code",
   "execution_count": null,
   "metadata": {},
   "outputs": [],
   "source": []
  }
 ],
 "metadata": {
  "kernelspec": {
   "display_name": "Python 3",
   "language": "python",
   "name": "python3"
  },
  "language_info": {
   "codemirror_mode": {
    "name": "ipython",
    "version": 3
   },
   "file_extension": ".py",
   "mimetype": "text/x-python",
   "name": "python",
   "nbconvert_exporter": "python",
   "pygments_lexer": "ipython3",
   "version": "3.6.9"
  }
 },
 "nbformat": 4,
 "nbformat_minor": 2
}
