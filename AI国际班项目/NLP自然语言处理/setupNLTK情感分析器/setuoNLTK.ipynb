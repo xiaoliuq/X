{
 "cells": [
  {
   "cell_type": "code",
   "execution_count": 83,
   "metadata": {},
   "outputs": [],
   "source": [
    "import nltk\n",
    "from nltk.corpus import movie_reviews\n",
    "from nltk.classify import NaiveBayesClassifier"
   ]
  },
  {
   "cell_type": "code",
   "execution_count": 84,
   "metadata": {},
   "outputs": [
    {
     "name": "stderr",
     "output_type": "stream",
     "text": [
      "[nltk_data] Downloading package movie_reviews to\n",
      "[nltk_data]     C:\\Users\\xiaoliuquan\\AppData\\Roaming\\nltk_data...\n",
      "[nltk_data]   Package movie_reviews is already up-to-date!\n"
     ]
    },
    {
     "data": {
      "text/plain": [
       "True"
      ]
     },
     "execution_count": 84,
     "metadata": {},
     "output_type": "execute_result"
    }
   ],
   "source": [
    "nltk.download('movie_reviews')"
   ]
  },
  {
   "cell_type": "code",
   "execution_count": 85,
   "metadata": {},
   "outputs": [
    {
     "name": "stdout",
     "output_type": "stream",
     "text": [
      "1000\n",
      "1000\n"
     ]
    }
   ],
   "source": [
    "if __name__=='__main__':\n",
    "    positive_fileids=movie_reviews.fileids('pos')\n",
    "    negative_fileids=movie_reviews.fileids('neg')\n",
    "    \n",
    "# def extract_features(word_list):\n",
    "#     return dict([(word,True)for word in word_list])#提取特征数据\n",
    "\n",
    "features_positive=[(extract_features(movie_reviews.words(fileids=[f])),'Positive') for f in positive_fileids]#将语料库的数据通过刚才的函数提取出来\n",
    "features_negative=[(extract_features(movie_reviews.words(fileids=[f])),'Negative') for f in negative_fileids]\n",
    "print(len(features_positive))\n",
    "print(len(features_negative))"
   ]
  },
  {
   "cell_type": "code",
   "execution_count": 86,
   "metadata": {},
   "outputs": [
    {
     "name": "stdout",
     "output_type": "stream",
     "text": [
      "1600\n"
     ]
    }
   ],
   "source": [
    "threshold_factor=0.8\n",
    "threshold_positive= int(threshold_factor*len(features_positive))\n",
    "threshold_negative= int(threshold_factor*len(features_negative))\n",
    "features_train = features_positive[:threshold_positive] + features_negative[:threshold_negative]\n",
    "features_test=features_positive[threshold_positive:]+features_negative[threshold_negative:]\n",
    "print(len(features_train))"
   ]
  },
  {
   "cell_type": "code",
   "execution_count": 90,
   "metadata": {},
   "outputs": [
    {
     "name": "stdout",
     "output_type": "stream",
     "text": [
      "成功率 0.735\n"
     ]
    }
   ],
   "source": [
    "classifier= NaiveBayesClassifier.train(features_train)\n",
    "print(\"成功率\",nltk.classify.util.accuracy(classifier,features_test))"
   ]
  },
  {
   "cell_type": "code",
   "execution_count": 91,
   "metadata": {},
   "outputs": [
    {
     "name": "stdout",
     "output_type": "stream",
     "text": [
      "10个重要单词\n",
      "outstanding\n",
      "insulting\n",
      "vulnerable\n",
      "ludicrous\n",
      "uninvolving\n",
      "avoids\n",
      "astounding\n",
      "fascination\n",
      "affecting\n",
      "symbol\n"
     ]
    }
   ],
   "source": [
    "print(\"10个重要单词\")\n",
    "for item in classifier.most_informative_features()[:10]:\n",
    "    print(item[0])"
   ]
  },
  {
   "cell_type": "code",
   "execution_count": 135,
   "metadata": {},
   "outputs": [],
   "source": [
    "input_reviews=[\"It is an amazing \", \n",
    "               \"This is a dull movie. I would never recommend it to anyone.\", \n",
    "              \"A complete and utter destruction of one of the most iconic superheroes. 0.1 effort and thought put into the storyline. A coming of age awkward teenage movie with a 'spiderman' stamp put on it. Bad jokes aimed at teenagers (at best). A complete caricature of a villain, a complete caricature of a Spiderman. Just please stop making this garbage Put some god damn effort! A total waste of time\", \n",
    "               \"Just staving off some negative reviews. Fits well into the Marvel movies to date and is an excellent follow up to Avengers: Endgame.\"\n",
    "              ]"
   ]
  },
  {
   "cell_type": "code",
   "execution_count": 136,
   "metadata": {},
   "outputs": [
    {
     "name": "stdout",
     "output_type": "stream",
     "text": [
      "预测\n",
      "评论: It is an amazing \n",
      "预测情绪： Positive\n",
      "可能性： 0.63\n",
      "评论: This is a dull movie. I would never recommend it to anyone.\n",
      "预测情绪： Negative\n",
      "可能性： 0.77\n",
      "评论: A complete and utter destruction of one of the most iconic superheroes. 0.1 effort and thought put into the storyline. A coming of age awkward teenage movie with a 'spiderman' stamp put on it. Bad jokes aimed at teenagers (at best). A complete caricature of a villain, a complete caricature of a Spiderman. Just please stop making this garbage Put some god damn effort! A total waste of time\n",
      "预测情绪： Negative\n",
      "可能性： 0.99\n",
      "评论: Just staving off some negative reviews. Fits well into the Marvel movies to date and is an excellent follow up to Avengers: Endgame.\n",
      "预测情绪： Positive\n",
      "可能性： 0.92\n"
     ]
    }
   ],
   "source": [
    "print(\"预测\")\n",
    "for review in input_reviews:\n",
    "    print(\"评论:\",review)    \n",
    "    probdist=classifier.prob_classify(extract_features(review.split()))\n",
    "    pred_sentiment=probdist.max()\n",
    "    print(\"预测情绪：\",pred_sentiment)\n",
    "    print(\"可能性：\",round(probdist.prob(pred_sentiment),2))"
   ]
  },
  {
   "cell_type": "code",
   "execution_count": null,
   "metadata": {},
   "outputs": [],
   "source": []
  },
  {
   "cell_type": "code",
   "execution_count": null,
   "metadata": {},
   "outputs": [],
   "source": []
  }
 ],
 "metadata": {
  "kernelspec": {
   "display_name": "Python 3",
   "language": "python",
   "name": "python3"
  },
  "language_info": {
   "codemirror_mode": {
    "name": "ipython",
    "version": 3
   },
   "file_extension": ".py",
   "mimetype": "text/x-python",
   "name": "python",
   "nbconvert_exporter": "python",
   "pygments_lexer": "ipython3",
   "version": "3.6.9"
  }
 },
 "nbformat": 4,
 "nbformat_minor": 2
}
